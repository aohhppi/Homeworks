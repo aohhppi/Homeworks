{
 "cells": [
  {
   "cell_type": "code",
   "execution_count": 1,
   "id": "643f8012",
   "metadata": {},
   "outputs": [],
   "source": [
    "import pandas as pd"
   ]
  },
  {
   "cell_type": "code",
   "execution_count": 2,
   "id": "a2765e53",
   "metadata": {},
   "outputs": [],
   "source": [
    "# to read csv file named \"samplee\"\n",
    "a = pd.read_csv(\"cities.csv\")\n",
    " \n",
    "# to save as html file\n",
    "# named as \"Table\"\n",
    "a.to_html(\"data1.html\")\n",
    " \n",
    "# # assign it to a\n",
    "# # variable (string)\n",
    "# html_file = a.to_html()"
   ]
  },
  {
   "cell_type": "code",
   "execution_count": null,
   "id": "e347a62d",
   "metadata": {},
   "outputs": [],
   "source": [
    "# a.to_html"
   ]
  },
  {
   "cell_type": "code",
   "execution_count": null,
   "id": "38fc466b",
   "metadata": {},
   "outputs": [],
   "source": []
  }
 ],
 "metadata": {
  "kernelspec": {
   "display_name": "Python 3 (ipykernel)",
   "language": "python",
   "name": "python3"
  },
  "language_info": {
   "codemirror_mode": {
    "name": "ipython",
    "version": 3
   },
   "file_extension": ".py",
   "mimetype": "text/x-python",
   "name": "python",
   "nbconvert_exporter": "python",
   "pygments_lexer": "ipython3",
   "version": "3.7.11"
  }
 },
 "nbformat": 4,
 "nbformat_minor": 5
}
