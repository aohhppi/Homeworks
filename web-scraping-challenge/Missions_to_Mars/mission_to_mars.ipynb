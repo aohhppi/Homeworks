{
 "cells": [
  {
   "cell_type": "code",
   "execution_count": 1,
   "id": "e8a21c05",
   "metadata": {},
   "outputs": [],
   "source": [
    "# Import Dependencies\n",
    "from splinter import Browser\n",
    "from bs4 import BeautifulSoup\n",
    "from webdriver_manager.chrome import ChromeDriverManager\n",
    "import pandas as pd"
   ]
  },
  {
   "cell_type": "code",
   "execution_count": 2,
   "id": "943b27b3",
   "metadata": {},
   "outputs": [
    {
     "name": "stdout",
     "output_type": "stream",
     "text": [
      "\n"
     ]
    },
    {
     "name": "stderr",
     "output_type": "stream",
     "text": [
      "[WDM] - ====== WebDriver manager ======\n",
      "[WDM] - Current google-chrome version is 102.0.5005\n",
      "[WDM] - Get LATEST chromedriver version for 102.0.5005 google-chrome\n",
      "[WDM] - Driver [C:\\Users\\admin\\.wdm\\drivers\\chromedriver\\win32\\102.0.5005.61\\chromedriver.exe] found in cache\n"
     ]
    }
   ],
   "source": [
    " executable_path = {'executable_path': ChromeDriverManager().install()}\n",
    " browser = Browser('chrome', **executable_path, headless=False)"
   ]
  },
  {
   "cell_type": "code",
   "execution_count": 8,
   "id": "71b12637",
   "metadata": {},
   "outputs": [],
   "source": [
    "#URL to scrape\n",
    "\n",
    "url = 'https://redplanetscience.com'\n",
    "browser.visit(url)\n",
    "\n",
    "#create HTMl Object\n",
    "\n",
    "html = browser.html\n",
    "\n",
    "#parse HTML with beautiful soup\n",
    "\n",
    "soup = BeautifulSoup(html, 'html.parser')"
   ]
  },
  {
   "cell_type": "markdown",
   "id": "f65c4866",
   "metadata": {},
   "source": [
    "### NASA Mars News"
   ]
  },
  {
   "cell_type": "code",
   "execution_count": 9,
   "id": "b4c053a4",
   "metadata": {},
   "outputs": [
    {
     "name": "stdout",
     "output_type": "stream",
     "text": [
      "<div class=\"list_text\">\n",
      "<div class=\"list_date\">June 12, 2022</div>\n",
      "<div class=\"content_title\">Scientists Explore Outback as Testbed for Mars </div>\n",
      "<div class=\"article_teaser_body\">Australia provides a great place for NASA's Mars 2020 and the ESA-Roscosmos ExoMars scientists to hone techniques in preparation for searching for signs ancient life on Mars.</div>\n",
      "</div>\n"
     ]
    }
   ],
   "source": [
    "nasa_mars_article = soup.find('div', class_='list_text')\n",
    "print(nasa_mars_article)"
   ]
  },
  {
   "cell_type": "code",
   "execution_count": 10,
   "id": "783ee390",
   "metadata": {},
   "outputs": [
    {
     "data": {
      "text/plain": [
       "'Scientists Explore Outback as Testbed for Mars '"
      ]
     },
     "execution_count": 10,
     "metadata": {},
     "output_type": "execute_result"
    }
   ],
   "source": [
    "# Extract title text\n",
    "\n",
    "nasa_mars_news_title = soup.find('div',class_='content_title').text\n",
    "nasa_mars_news_title"
   ]
  },
  {
   "cell_type": "code",
   "execution_count": 11,
   "id": "cf6479c7",
   "metadata": {},
   "outputs": [
    {
     "data": {
      "text/plain": [
       "\"Australia provides a great place for NASA's Mars 2020 and the ESA-Roscosmos ExoMars scientists to hone techniques in preparation for searching for signs ancient life on Mars.\""
      ]
     },
     "execution_count": 11,
     "metadata": {},
     "output_type": "execute_result"
    }
   ],
   "source": [
    "# Extract Paragraph text\n",
    "\n",
    "nasa_mars_news_paragraph = soup.find('div',class_='article_teaser_body').text\n",
    "nasa_mars_news_paragraph"
   ]
  },
  {
   "cell_type": "markdown",
   "id": "4f451f1e",
   "metadata": {},
   "source": [
    "### JPL Mars Space Images—Featured Image"
   ]
  },
  {
   "cell_type": "code",
   "execution_count": 14,
   "id": "e7a0aa8a",
   "metadata": {},
   "outputs": [],
   "source": [
    "jpl_url = \"https://spaceimages-mars.com/\"\n",
    "\n",
    "browser.visit(jpl_url)"
   ]
  },
  {
   "cell_type": "code",
   "execution_count": 15,
   "id": "7c33c15e",
   "metadata": {},
   "outputs": [],
   "source": [
    "html_image = browser.html\n",
    "\n",
    "soup = BeautifulSoup(html_image, 'html.parser')"
   ]
  },
  {
   "cell_type": "code",
   "execution_count": 16,
   "id": "7b0c7504",
   "metadata": {},
   "outputs": [
    {
     "data": {
      "text/plain": [
       "'image/featured/mars3.jpg'"
      ]
     },
     "execution_count": 16,
     "metadata": {},
     "output_type": "execute_result"
    }
   ],
   "source": [
    "image_url  = soup.find('img', class_=\"headerimage fade-in\")[\"src\"]\n",
    "\n",
    "image_url"
   ]
  },
  {
   "cell_type": "code",
   "execution_count": 17,
   "id": "de78b40f",
   "metadata": {},
   "outputs": [
    {
     "data": {
      "text/plain": [
       "'https://spaceimages-mars.com/image/featured/mars3.jpg'"
      ]
     },
     "execution_count": 17,
     "metadata": {},
     "output_type": "execute_result"
    }
   ],
   "source": [
    "featured_image_url = jpl_url + image_url\n",
    "featured_image_url"
   ]
  },
  {
   "cell_type": "markdown",
   "id": "838321d9",
   "metadata": {},
   "source": [
    "### Mars Facts"
   ]
  },
  {
   "cell_type": "code",
   "execution_count": 18,
   "id": "9d97cc30",
   "metadata": {},
   "outputs": [
    {
     "data": {
      "text/plain": [
       "[                         0                1                2\n",
       " 0  Mars - Earth Comparison             Mars            Earth\n",
       " 1                Diameter:         6,779 km        12,742 km\n",
       " 2                    Mass:  6.39 × 10^23 kg  5.97 × 10^24 kg\n",
       " 3                   Moons:                2                1\n",
       " 4       Distance from Sun:   227,943,824 km   149,598,262 km\n",
       " 5          Length of Year:   687 Earth days      365.24 days\n",
       " 6             Temperature:     -87 to -5 °C      -88 to 58°C,\n",
       "                       0                              1\n",
       " 0  Equatorial Diameter:                       6,792 km\n",
       " 1       Polar Diameter:                       6,752 km\n",
       " 2                 Mass:  6.39 × 10^23 kg (0.11 Earths)\n",
       " 3                Moons:          2 ( Phobos & Deimos )\n",
       " 4       Orbit Distance:       227,943,824 km (1.38 AU)\n",
       " 5         Orbit Period:           687 days (1.9 years)\n",
       " 6  Surface Temperature:                   -87 to -5 °C\n",
       " 7         First Record:              2nd millennium BC\n",
       " 8          Recorded By:           Egyptian astronomers]"
      ]
     },
     "execution_count": 18,
     "metadata": {},
     "output_type": "execute_result"
    }
   ],
   "source": [
    "# Visit the Mars Facts webpage\n",
    "mars_facts='https://galaxyfacts-mars.com'\n",
    "mars_facts_table = pd.read_html(mars_facts)\n",
    "mars_facts_table"
   ]
  },
  {
   "cell_type": "code",
   "execution_count": 19,
   "id": "52144657",
   "metadata": {},
   "outputs": [
    {
     "data": {
      "text/html": [
       "<div>\n",
       "<style scoped>\n",
       "    .dataframe tbody tr th:only-of-type {\n",
       "        vertical-align: middle;\n",
       "    }\n",
       "\n",
       "    .dataframe tbody tr th {\n",
       "        vertical-align: top;\n",
       "    }\n",
       "\n",
       "    .dataframe thead th {\n",
       "        text-align: right;\n",
       "    }\n",
       "</style>\n",
       "<table border=\"1\" class=\"dataframe\">\n",
       "  <thead>\n",
       "    <tr style=\"text-align: right;\">\n",
       "      <th></th>\n",
       "      <th>Comparision</th>\n",
       "      <th>Mars</th>\n",
       "      <th>Earth</th>\n",
       "    </tr>\n",
       "  </thead>\n",
       "  <tbody>\n",
       "    <tr>\n",
       "      <th>0</th>\n",
       "      <td>Mars - Earth Comparison</td>\n",
       "      <td>Mars</td>\n",
       "      <td>Earth</td>\n",
       "    </tr>\n",
       "    <tr>\n",
       "      <th>1</th>\n",
       "      <td>Diameter:</td>\n",
       "      <td>6,779 km</td>\n",
       "      <td>12,742 km</td>\n",
       "    </tr>\n",
       "    <tr>\n",
       "      <th>2</th>\n",
       "      <td>Mass:</td>\n",
       "      <td>6.39 × 10^23 kg</td>\n",
       "      <td>5.97 × 10^24 kg</td>\n",
       "    </tr>\n",
       "    <tr>\n",
       "      <th>3</th>\n",
       "      <td>Moons:</td>\n",
       "      <td>2</td>\n",
       "      <td>1</td>\n",
       "    </tr>\n",
       "    <tr>\n",
       "      <th>4</th>\n",
       "      <td>Distance from Sun:</td>\n",
       "      <td>227,943,824 km</td>\n",
       "      <td>149,598,262 km</td>\n",
       "    </tr>\n",
       "    <tr>\n",
       "      <th>5</th>\n",
       "      <td>Length of Year:</td>\n",
       "      <td>687 Earth days</td>\n",
       "      <td>365.24 days</td>\n",
       "    </tr>\n",
       "    <tr>\n",
       "      <th>6</th>\n",
       "      <td>Temperature:</td>\n",
       "      <td>-87 to -5 °C</td>\n",
       "      <td>-88 to 58°C</td>\n",
       "    </tr>\n",
       "  </tbody>\n",
       "</table>\n",
       "</div>"
      ],
      "text/plain": [
       "               Comparision             Mars            Earth\n",
       "0  Mars - Earth Comparison             Mars            Earth\n",
       "1                Diameter:         6,779 km        12,742 km\n",
       "2                    Mass:  6.39 × 10^23 kg  5.97 × 10^24 kg\n",
       "3                   Moons:                2                1\n",
       "4       Distance from Sun:   227,943,824 km   149,598,262 km\n",
       "5          Length of Year:   687 Earth days      365.24 days\n",
       "6             Temperature:     -87 to -5 °C      -88 to 58°C"
      ]
     },
     "execution_count": 19,
     "metadata": {},
     "output_type": "execute_result"
    }
   ],
   "source": [
    "# #Create Dataframe to store table data\n",
    "mars_facts_df = mars_facts_table[0]\n",
    "mars_facts_df.columns = ['Comparision', 'Mars', 'Earth']\n",
    "mars_facts_df"
   ]
  },
  {
   "cell_type": "markdown",
   "id": "e4b3e177",
   "metadata": {},
   "source": [
    "### Mars Hemispheres"
   ]
  },
  {
   "cell_type": "code",
   "execution_count": 20,
   "id": "1146a1cf",
   "metadata": {},
   "outputs": [],
   "source": [
    "url_hemis = 'https://marshemispheres.com'\n",
    "browser.visit(url_hemis)"
   ]
  },
  {
   "cell_type": "code",
   "execution_count": 21,
   "id": "c93360a7",
   "metadata": {},
   "outputs": [],
   "source": [
    "# Scrap 4 images\n",
    "urls = [\n",
    "    'https://marshemispheres.com/cerberus.html',\n",
    "    'https://marshemispheres.com/schiaparelli.html',\n",
    "    'https://marshemispheres.com/syrtis.html',\n",
    "    'https://marshemispheres.com/valles.html'\n",
    "]\n",
    "\n",
    "# create empty dictionary to collect images\n",
    "image_data = []"
   ]
  },
  {
   "cell_type": "code",
   "execution_count": 22,
   "id": "783d2faa",
   "metadata": {},
   "outputs": [
    {
     "name": "stdout",
     "output_type": "stream",
     "text": [
      "https://marshemispheres.com/cerberus.html\n",
      "https://marshemispheres.com/schiaparelli.html\n",
      "https://marshemispheres.com/syrtis.html\n",
      "https://marshemispheres.com/valles.html\n"
     ]
    }
   ],
   "source": [
    "for url in urls:\n",
    "    print(url)\n",
    "\n",
    "    # create empty dictionary\n",
    "    album = {}\n",
    "    \n",
    "    # click link\n",
    "    browser.visit(url)\n",
    "    \n",
    "    # Scrape the image from the img element\n",
    "    m_html = browser.html\n",
    "    m_scraper = BeautifulSoup(m_html, 'html.parser')\n",
    "    \n",
    "    # scrape the title and image url\n",
    "    m_title = m_scraper.find('h2', {'class': 'title'}).get_text()\n",
    "    \n",
    "    # add title to album\n",
    "    album['title'] = m_title\n",
    "  \n",
    "    # add image to album\n",
    "    image_data.append(album)\n",
    "    \n",
    "    # go back a page in the browser\n",
    "    browser.back()"
   ]
  },
  {
   "cell_type": "code",
   "execution_count": 23,
   "id": "bb86d906",
   "metadata": {},
   "outputs": [
    {
     "data": {
      "text/plain": [
       "[{'title': 'Cerberus Hemisphere Enhanced'},\n",
       " {'title': 'Schiaparelli Hemisphere Enhanced'},\n",
       " {'title': 'Syrtis Major Hemisphere Enhanced'},\n",
       " {'title': 'Valles Marineris Hemisphere Enhanced'}]"
      ]
     },
     "execution_count": 23,
     "metadata": {},
     "output_type": "execute_result"
    }
   ],
   "source": [
    "image_data"
   ]
  },
  {
   "cell_type": "code",
   "execution_count": 24,
   "id": "393c64b9",
   "metadata": {},
   "outputs": [],
   "source": [
    "browser.quit()"
   ]
  },
  {
   "cell_type": "code",
   "execution_count": null,
   "id": "a34e7fa7",
   "metadata": {},
   "outputs": [],
   "source": []
  }
 ],
 "metadata": {
  "kernelspec": {
   "display_name": "Python 3 (ipykernel)",
   "language": "python",
   "name": "python3"
  },
  "language_info": {
   "codemirror_mode": {
    "name": "ipython",
    "version": 3
   },
   "file_extension": ".py",
   "mimetype": "text/x-python",
   "name": "python",
   "nbconvert_exporter": "python",
   "pygments_lexer": "ipython3",
   "version": "3.7.11"
  }
 },
 "nbformat": 4,
 "nbformat_minor": 5
}
